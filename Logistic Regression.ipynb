{
 "cells": [
  {
   "cell_type": "markdown",
   "metadata": {},
   "source": [
    "## ----------------------------- All about Neural Networks ------------------------------------##\n"
   ]
  },
  {
   "cell_type": "code",
   "execution_count": null,
   "metadata": {
    "collapsed": true
   },
   "outputs": [],
   "source": []
  },
  {
   "cell_type": "code",
   "execution_count": 9,
   "metadata": {
    "collapsed": true
   },
   "outputs": [],
   "source": [
    "import numpy as np \n",
    "import pandas as pd\n",
    "import h5py\n",
    "import scipy\n",
    "from PIL import Image \n",
    "from scipy import ndimage \n",
    "import matplotlib.pyplot as plt\n",
    "%matplotlib inline"
   ]
  },
  {
   "cell_type": "code",
   "execution_count": 10,
   "metadata": {
    "collapsed": true
   },
   "outputs": [],
   "source": [
    "df = pd.read_csv(\"C:/Users/cool/Documents/NN.csv\")"
   ]
  },
  {
   "cell_type": "code",
   "execution_count": 11,
   "metadata": {
    "collapsed": true
   },
   "outputs": [],
   "source": [
    "data = df.copy()"
   ]
  },
  {
   "cell_type": "code",
   "execution_count": 12,
   "metadata": {},
   "outputs": [
    {
     "data": {
      "text/plain": [
       "Index(['Unnamed: 0', 'Sepal.Length', 'Sepal.Width', 'Petal.Length',\n",
       "       'Petal.Width', 'Species'],\n",
       "      dtype='object')"
      ]
     },
     "execution_count": 12,
     "metadata": {},
     "output_type": "execute_result"
    }
   ],
   "source": [
    "df.columns"
   ]
  },
  {
   "cell_type": "code",
   "execution_count": 13,
   "metadata": {
    "collapsed": true
   },
   "outputs": [],
   "source": [
    "df = df.loc[0:99,['Sepal.Length','Petal.Length']]"
   ]
  },
  {
   "cell_type": "code",
   "execution_count": 14,
   "metadata": {
    "collapsed": true
   },
   "outputs": [],
   "source": [
    "df['flag'] = [ 1 if i <= 49 else 0 for i in range(100)]"
   ]
  },
  {
   "cell_type": "markdown",
   "metadata": {},
   "source": [
    "## Scatter plot  of data  "
   ]
  },
  {
   "cell_type": "code",
   "execution_count": 15,
   "metadata": {},
   "outputs": [
    {
     "data": {
      "text/plain": [
       "<matplotlib.collections.PathCollection at 0xa36f410>"
      ]
     },
     "execution_count": 15,
     "metadata": {},
     "output_type": "execute_result"
    },
    {
     "data": {
      "image/png": "[encoded data removed]",
      "text/plain": [
       "<matplotlib.figure.Figure at 0x8d4a6b0>"
      ]
     },
     "metadata": {},
     "output_type": "display_data"
    }
   ],
   "source": [
    "plt.scatter(df['Sepal.Length'], df['Petal.Length'], c= df['flag'],s = 10)"
   ]
  },
  {
   "cell_type": "code",
   "execution_count": 16,
   "metadata": {},
   "outputs": [
    {
     "ename": "NameError",
     "evalue": "name 'w' is not defined",
     "output_type": "error",
     "traceback": [
      "\u001b[1;31m---------------------------------------------------------------------------\u001b[0m",
      "\u001b[1;31mNameError\u001b[0m                                 Traceback (most recent call last)",
      "\u001b[1;32m<ipython-input-16-6daab0f046a3>\u001b[0m in \u001b[0;36m<module>\u001b[1;34m()\u001b[0m\n\u001b[0;32m      1\u001b[0m \u001b[1;33m\u001b[0m\u001b[0m\n\u001b[1;32m----> 2\u001b[1;33m \u001b[0mprint\u001b[0m\u001b[1;33m(\u001b[0m\u001b[0mw\u001b[0m\u001b[1;33m)\u001b[0m\u001b[1;33m\u001b[0m\u001b[0m\n\u001b[0m\u001b[0;32m      3\u001b[0m \u001b[0mprint\u001b[0m\u001b[1;33m(\u001b[0m\u001b[0mb\u001b[0m\u001b[1;33m)\u001b[0m\u001b[1;33m\u001b[0m\u001b[0m\n",
      "\u001b[1;31mNameError\u001b[0m: name 'w' is not defined"
     ]
    }
   ],
   "source": [
    "\n",
    "print(w)\n",
    "print(b)"
   ]
  },
  {
   "cell_type": "code",
   "execution_count": 17,
   "metadata": {
    "collapsed": true
   },
   "outputs": [],
   "source": [
    "#df['flag']"
   ]
  },
  {
   "cell_type": "code",
   "execution_count": 57,
   "metadata": {},
   "outputs": [
    {
     "name": "stdout",
     "output_type": "stream",
     "text": [
      "[[ 1.63930164]]\n",
      "[[ 0.26171572]]\n",
      "[[ 0.14476061]]\n",
      "[[ 0.10008383]]\n",
      "[[ 0.07679696]]\n",
      "[[ 0.06253048]]\n",
      "[[ 0.05288904]]\n",
      "[[ 0.04593047]]\n",
      "[[ 0.04066623]]\n",
      "[[ 0.03654064]]\n",
      "[[ 0.03321739]]\n",
      "[[ 0.030481]]\n",
      "[[ 0.02818703]]\n",
      "[[ 0.02623499]]\n",
      "[[ 0.0245528]]\n",
      "[[ 0.02308739]]\n",
      "[[ 0.0217988]]\n",
      "[[ 0.02065639]]\n",
      "[[ 0.01963625]]\n",
      "[[ 0.01871942]]\n",
      "[[ 0.01789072]]\n",
      "[[ 0.0171378]]\n",
      "[[ 0.01645055]]\n",
      "[[ 0.01582057]]\n",
      "[[ 0.01524087]]\n",
      "[[ 0.01470555]]\n",
      "[[ 0.01420959]]\n",
      "[[ 0.01374873]]\n",
      "[[ 0.01331929]]\n",
      "[[ 0.01291811]]\n",
      "[[ 0.01254242]]\n",
      "[[ 0.01218981]]\n",
      "[[ 0.01185819]]\n",
      "[[ 0.01154569]]\n",
      "[[ 0.01125067]]\n",
      "[[ 0.01097167]]\n",
      "[[ 0.01070738]]\n",
      "[[ 0.01045666]]\n",
      "[[ 0.01021846]]\n",
      "[[ 0.00999183]]\n",
      "[[ 0.00977595]]\n",
      "[[ 0.00957004]]\n",
      "[[ 0.00937341]]\n",
      "[[ 0.00918544]]\n",
      "[[ 0.00900555]]\n",
      "[[ 0.00883322]]\n",
      "[[ 0.00866797]]\n",
      "[[ 0.00850936]]\n",
      "[[ 0.00835699]]\n",
      "[[ 0.00821049]]\n"
     ]
    }
   ],
   "source": [
    "\n",
    "### randomization of parameters \n",
    "w = np.random.rand(1,2)\n",
    "b = np.random.rand(1)\n",
    "m = df.shape[0]\n",
    "learning_rate = 0.2\n",
    "cos = []\n",
    "ind = []\n",
    "\n",
    "for i in range(1000):\n",
    "   \n",
    "\n",
    "    ##  Foroward and backwordpropogation \n",
    "    Z = np.matmul(w,df.drop('flag',axis=1).transpose()) + b\n",
    "    A  = 1 /(1+ np.exp(-Z))                                   # sigmpoid activation function or\n",
    "\n",
    "\n",
    "    ## Cost function\n",
    "    c1 = np.matmul(df['flag'].transpose(),np.log(A).transpose())\n",
    "    c2 = np.matmul((1-df['flag'].transpose()),np.log(1-A.transpose()))\n",
    "    cost = np.matrix((-1/m)*(c1 + c2))                                   # final cost function \n",
    "\n",
    "    ## Backpropogationd\n",
    "    dw = (1/m)*np.matmul(df.drop('flag',axis = 1).transpose(),(A.transpose()-np.matrix(df['flag']).transpose()))\n",
    "    db = (1/m)*np.sum(A.transpose() - np.matrix(df['flag']).transpose())\n",
    "\n",
    "    ## Gradine decent algorithem \n",
    "    w = w - learning_rate * dw.transpose()\n",
    "\n",
    "    b = b - learning_rate * np.array(db)\n",
    "    if i%20 == 0:\n",
    "        cos.append(cost[0,0])\n",
    "        print(cost)\n",
    "        ind.append(i)"
   ]
  },
  {
   "cell_type": "code",
   "execution_count": 60,
   "metadata": {},
   "outputs": [
    {
     "name": "stdout",
     "output_type": "stream",
     "text": [
      "[1.6393016366796929, 0.26171572260475251, 0.144760607859691, 0.10008383090996276, 0.076796955287007251, 0.062530482043896746, 0.052889042013902987, 0.045930466105867755, 0.04066623444655422, 0.036540644590996284, 0.03321738850169477, 0.030481000684549411, 0.028187031584419559, 0.026234993906247218, 0.024552802191350108, 0.023087386711076647, 0.021798800736496184, 0.020656392715057224, 0.019636245557824405, 0.018719419094671941, 0.017890716262799092, 0.017137799462402327, 0.016450546296427747, 0.015820572248170052, 0.015240871878970195, 0.014705545546040526, 0.01420958874506436, 0.01374872793332743, 0.013319291279581851, 0.012918105958731677, 0.012542415833778756, 0.012189814948765056, 0.011858193394883705, 0.011545692941200718, 0.011250670432119785, 0.010971667408053777, 0.010707384747003716, 0.010456661383343158, 0.0102184563577262, 0.009991833604255887, 0.0097759489991736323, 0.0095700392876439215, 0.0093734125778302119, 0.0091854401489534464, 0.0090055493658130446, 0.0088332175289267765, 0.0086679665189805261, 0.0085093581181865455, 0.008356989910595929, 0.008210491679303749]\n",
      "[0, 20, 40, 60, 80, 100, 120, 140, 160, 180, 200, 220, 240, 260, 280, 300, 320, 340, 360, 380, 400, 420, 440, 460, 480, 500, 520, 540, 560, 580, 600, 620, 640, 660, 680, 700, 720, 740, 760, 780, 800, 820, 840, 860, 880, 900, 920, 940, 960, 980]\n"
     ]
    }
   ],
   "source": [
    "print(cos)\n",
    "print(ind)"
   ]
  },
  {
   "cell_type": "code",
   "execution_count": 68,
   "metadata": {},
   "outputs": [
    {
     "data": {
      "text/plain": [
       "<matplotlib.text.Text at 0xa5b5490>"
      ]
     },
     "execution_count": 68,
     "metadata": {},
     "output_type": "execute_result"
    },
    {
     "data": {
      "image/png": "[encoded data removed]",
      "text/plain": [
       "<matplotlib.figure.Figure at 0xa771170>"
      ]
     },
     "metadata": {},
     "output_type": "display_data"
    }
   ],
   "source": [
    "plt.plot(ind,cos)\n",
    "plt.xlabel('Number of itretions')\n",
    "plt.ylabel('Cost function ')\n",
    "plt.title('Cost vs Num of itretions plot' )"
   ]
  },
  {
   "cell_type": "code",
   "execution_count": 70,
   "metadata": {},
   "outputs": [
    {
     "name": "stdout",
     "output_type": "stream",
     "text": [
      "[[-0.00243314]\n",
      " [ 0.00527975]]\n",
      "-0.000911587134268\n"
     ]
    }
   ],
   "source": [
    "print(dw)\n",
    "print(db)"
   ]
  },
  {
   "cell_type": "code",
   "execution_count": 78,
   "metadata": {},
   "outputs": [
    {
     "data": {
      "text/plain": [
       "[<matplotlib.lines.Line2D at 0xadcf770>]"
      ]
     },
     "execution_count": 78,
     "metadata": {},
     "output_type": "execute_result"
    },
    {
     "data": {
      "image/png": "[encoded data removed]",
      "text/plain": [
       "<matplotlib.figure.Figure at 0xad72970>"
      ]
     },
     "metadata": {},
     "output_type": "display_data"
    }
   ],
   "source": [
    "# Decsion boundery\n",
    "plt.scatter(df['Sepal.Length'],df['Petal.Length'],c= df['flag'],s = 15)\n",
    "plt.plot(df['Sepal.Length'],-((dw[0,0]*df['Sepal.Length'])+db)/dw[1,0])\n"
   ]
  },
  {
   "cell_type": "code",
   "execution_count": null,
   "metadata": {
    "collapsed": true
   },
   "outputs": [],
   "source": []
  }
 ],
 "metadata": {
  "kernelspec": {
   "display_name": "Python 3",
   "language": "python",
   "name": "python3"
  },
  "language_info": {
   "codemirror_mode": {
    "name": "ipython",
    "version": 3
   },
   "file_extension": ".py",
   "mimetype": "text/x-python",
   "name": "python",
   "nbconvert_exporter": "python",
   "pygments_lexer": "ipython3",
   "version": "3.6.2"
  }
 },
 "nbformat": 4,
 "nbformat_minor": 2
}
